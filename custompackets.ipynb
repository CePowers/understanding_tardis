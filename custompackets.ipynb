{
 "cells": [
  {
   "cell_type": "code",
   "execution_count": 35,
   "metadata": {},
   "outputs": [],
   "source": [
    "import numpy as np\n",
    "import matplotlib.pyplot as plt"
   ]
  },
  {
   "cell_type": "code",
   "execution_count": 36,
   "metadata": {},
   "outputs": [
    {
     "data": {
      "text/plain": [
       "array([10., 10., 10., 10., 10., 10., 10., 10., 10., 10., 10., 10., 10.,\n",
       "       10., 10., 10., 10., 10., 10., 10., 10., 10., 10., 10., 10., 10.,\n",
       "       10., 10., 10., 10., 10., 10., 10., 10., 10., 10., 10., 10., 10.,\n",
       "       10., 10., 10., 10., 10., 10., 10., 10., 10., 10., 10.])"
      ]
     },
     "execution_count": 36,
     "metadata": {},
     "output_type": "execute_result"
    }
   ],
   "source": [
    "r = 10\n",
    "def create_packet_radii(no_packets): # function for creating the array of radii of packets if each packet starts at the same radius (used in BlackBody)\n",
    "    return np.ones(no_packets) * r\n",
    "\n",
    "n_packets = 50\n",
    "create_packet_radii(n_packets)"
   ]
  },
  {
   "cell_type": "code",
   "execution_count": 37,
   "metadata": {},
   "outputs": [
    {
     "data": {
      "text/plain": [
       "array([42.25135724, 31.66273651, 40.0906871 , 24.53837026, 24.55640939,\n",
       "       16.98095437, 24.00653674, 19.14465708, 16.17599823, 29.87414606,\n",
       "       40.7722341 , 12.73567005, 18.49377973, 41.19016043, 25.01323276,\n",
       "       28.50201278, 45.3014239 , 17.84828587, 27.75415446, 20.63308389,\n",
       "       34.62005322, 14.26382056, 40.48805616, 42.80167606, 21.93734977,\n",
       "       42.54527304, 20.97162325, 45.46610373, 27.28924703, 27.90817379,\n",
       "       26.51654244, 16.61282776, 39.41315099, 23.36931814, 43.32116997,\n",
       "       38.52596118, 21.06235131, 42.63117337, 42.05004993, 10.77863702,\n",
       "       33.24587443, 22.68721083, 23.30578455, 31.64799079, 42.29857555,\n",
       "       48.62262724, 45.39017215, 25.9717403 , 33.69924599, 36.67382657])"
      ]
     },
     "execution_count": 37,
     "metadata": {},
     "output_type": "execute_result"
    }
   ],
   "source": [
    "r_inner = 10\n",
    "r_outer = 50\n",
    "def create_packet_radii_rand(no_packets, r_inner, r_outer): # function for creating the radii of packets where each packet is assigned a random radius between two boundaries\n",
    "    return np.random.uniform(r_inner, r_outer, no_packets)\n",
    "\n",
    "create_packet_radii_rand(n_packets, r_inner, r_outer)"
   ]
  },
  {
   "cell_type": "code",
   "execution_count": 38,
   "metadata": {},
   "outputs": [
    {
     "data": {
      "text/plain": [
       "array([0.3958786 , 0.89845847, 0.83931281, 0.66422029, 0.66695787,\n",
       "       0.98483059, 0.99598414, 0.95752185, 0.63738821, 0.94691118,\n",
       "       0.36160372, 0.84366806, 0.8782852 , 0.81035753, 0.67925805,\n",
       "       0.42689886, 0.64861162, 0.80462674, 0.9408303 , 0.59150819,\n",
       "       0.65866408, 0.26221923, 0.95309492, 0.65238845, 0.22613789,\n",
       "       0.31711871, 0.40001538, 0.28912749, 0.37533393, 0.65673337,\n",
       "       0.55624666, 0.91690987, 0.73666757, 0.58936662, 0.37236138,\n",
       "       0.85386625, 0.88392788, 0.19985003, 0.77894103, 0.74470761,\n",
       "       0.73750153, 0.95315562, 0.84651614, 0.40445064, 0.95809017,\n",
       "       0.95218832, 0.53992438, 0.91629289, 0.22224106, 0.3544264 ])"
      ]
     },
     "execution_count": 38,
     "metadata": {},
     "output_type": "execute_result"
    }
   ],
   "source": [
    "def create_packet_mus(no_packets):   # comes from energy packet initialization mu is the cos of the angle from radial direction\n",
    "    return np.sqrt(np.random.rand(no_packets))  # The way to randomly assign these values is to take the sqrt of a rand number from 0 to 1\n",
    "\n",
    "create_packet_mus(n_packets)"
   ]
  },
  {
   "cell_type": "code",
   "execution_count": 39,
   "metadata": {},
   "outputs": [
    {
     "data": {
      "text/plain": [
       "array([0.02, 0.02, 0.02, 0.02, 0.02, 0.02, 0.02, 0.02, 0.02, 0.02, 0.02,\n",
       "       0.02, 0.02, 0.02, 0.02, 0.02, 0.02, 0.02, 0.02, 0.02, 0.02, 0.02,\n",
       "       0.02, 0.02, 0.02, 0.02, 0.02, 0.02, 0.02, 0.02, 0.02, 0.02, 0.02,\n",
       "       0.02, 0.02, 0.02, 0.02, 0.02, 0.02, 0.02, 0.02, 0.02, 0.02, 0.02,\n",
       "       0.02, 0.02, 0.02, 0.02, 0.02, 0.02])"
      ]
     },
     "execution_count": 39,
     "metadata": {},
     "output_type": "execute_result"
    }
   ],
   "source": [
    "def create_packet_energies(no_packets): # function used in BlackBody. each packet is assigned the same energy and they all add up to 1\n",
    "    return np.ones(no_packets)/no_packets\n",
    "\n",
    "create_packet_energies(n_packets)"
   ]
  },
  {
   "cell_type": "code",
   "execution_count": 40,
   "metadata": {},
   "outputs": [
    {
     "data": {
      "text/plain": [
       "array([5., 5., 5., 5., 5., 5., 5., 5., 5., 5., 5., 5., 5., 5., 5., 5., 5.,\n",
       "       5., 5., 5., 5., 5., 5., 5., 5., 5., 5., 5., 5., 5., 5., 5., 5., 5.,\n",
       "       5., 5., 5., 5., 5., 5., 5., 5., 5., 5., 5., 5., 5., 5., 5., 5.])"
      ]
     },
     "execution_count": 40,
     "metadata": {},
     "output_type": "execute_result"
    }
   ],
   "source": [
    "def create_packet_energies2(no_packets, energy): # creates array of energies given a specific energy\n",
    "    return np.ones(no_packets) * energy\n",
    "\n",
    "energy = 5\n",
    "create_packet_energies2(n_packets, energy)"
   ]
  },
  {
   "cell_type": "code",
   "execution_count": 41,
   "metadata": {},
   "outputs": [],
   "source": [
    "def create_packet_nus_uniform(no_packets, nu_min, nu_max): # creates frequencies given a min and a max using a uniform distribution\n",
    "    return np.random.uniform(nu_min, nu_max, no_packets)\n",
    "\n",
    "nu_min = 400e12\n",
    "nu_max = 790e12\n",
    "n_packets = 1000\n",
    "uniform_nus = create_packet_nus_uniform(n_packets, nu_min, nu_max)\n"
   ]
  },
  {
   "cell_type": "code",
   "execution_count": 42,
   "metadata": {},
   "outputs": [
    {
     "data": {
      "text/plain": [
       "(array([ 93.,  98., 102., 103.,  86.,  94.,  95., 106., 107., 116.]),\n",
       " array([4.00018110e+14, 4.39006825e+14, 4.77995541e+14, 5.16984257e+14,\n",
       "        5.55972973e+14, 5.94961689e+14, 6.33950405e+14, 6.72939120e+14,\n",
       "        7.11927836e+14, 7.50916552e+14, 7.89905268e+14]),\n",
       " <BarContainer object of 10 artists>)"
      ]
     },
     "execution_count": 42,
     "metadata": {},
     "output_type": "execute_result"
    },
    {
     "data": {
      "image/png": "[encoded data removed]",
      "text/plain": [
       "<Figure size 640x480 with 1 Axes>"
      ]
     },
     "metadata": {},
     "output_type": "display_data"
    }
   ],
   "source": [
    "plt.hist(uniform_nus)"
   ]
  },
  {
   "cell_type": "code",
   "execution_count": 43,
   "metadata": {},
   "outputs": [],
   "source": [
    "def create_packet_nus_gaussian(no_packets, mean, standev):\n",
    "    return np.random.normal(mean, standev, no_packets)\n",
    "\n",
    "mean = (nu_max + nu_min)/2\n",
    "standev = 5e13\n",
    "gaussian_nus = create_packet_nus_gaussian(n_packets, mean, standev)"
   ]
  },
  {
   "cell_type": "code",
   "execution_count": 44,
   "metadata": {},
   "outputs": [
    {
     "data": {
      "text/plain": [
       "(array([  7.,  21.,  81., 192., 259., 244., 130.,  52.,  11.,   3.]),\n",
       " array([4.34786701e+14, 4.68665333e+14, 5.02543965e+14, 5.36422598e+14,\n",
       "        5.70301230e+14, 6.04179862e+14, 6.38058495e+14, 6.71937127e+14,\n",
       "        7.05815759e+14, 7.39694391e+14, 7.73573024e+14]),\n",
       " <BarContainer object of 10 artists>)"
      ]
     },
     "execution_count": 44,
     "metadata": {},
     "output_type": "execute_result"
    },
    {
     "data": {
      "image/png": "[encoded data removed]",
      "text/plain": [
       "<Figure size 640x480 with 1 Axes>"
      ]
     },
     "metadata": {},
     "output_type": "display_data"
    }
   ],
   "source": [
    "plt.hist(gaussian_nus)"
   ]
  },
  {
   "cell_type": "code",
   "execution_count": null,
   "metadata": {},
   "outputs": [],
   "source": []
  }
 ],
 "metadata": {
  "kernelspec": {
   "display_name": "tardis",
   "language": "python",
   "name": "python3"
  },
  "language_info": {
   "codemirror_mode": {
    "name": "ipython",
    "version": 3
   },
   "file_extension": ".py",
   "mimetype": "text/x-python",
   "name": "python",
   "nbconvert_exporter": "python",
   "pygments_lexer": "ipython3",
   "version": "3.11.5"
  }
 },
 "nbformat": 4,
 "nbformat_minor": 2
}
